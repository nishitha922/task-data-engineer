{
  "nbformat": 4,
  "nbformat_minor": 0,
  "metadata": {
    "colab": {
      "provenance": []
    },
    "kernelspec": {
      "name": "python3",
      "display_name": "Python 3"
    },
    "language_info": {
      "name": "python"
    }
  },
  "cells": [
    {
      "cell_type": "code",
      "execution_count": null,
      "metadata": {
        "colab": {
          "base_uri": "https://localhost:8080/"
        },
        "id": "PkZWW17RA4FZ",
        "outputId": "6d5e34ae-617c-4de5-cbe2-1ebcc3910600"
      },
      "outputs": [
        {
          "output_type": "stream",
          "name": "stdout",
          "text": [
            "Requirement already satisfied: pandas in /usr/local/lib/python3.10/dist-packages (2.2.2)\n",
            "\u001b[31mERROR: Could not find a version that satisfies the requirement sqlite3 (from versions: none)\u001b[0m\u001b[31m\n",
            "\u001b[0m\u001b[31mERROR: No matching distribution found for sqlite3\u001b[0m\u001b[31m\n",
            "\u001b[0m"
          ]
        }
      ],
      "source": [
        "pip install pandas sqlite3"
      ]
    },
    {
      "cell_type": "code",
      "source": [
        "import pandas as pd\n",
        "import sqlite3"
      ],
      "metadata": {
        "id": "JACiIpz4HXCA"
      },
      "execution_count": null,
      "outputs": []
    },
    {
      "cell_type": "code",
      "source": [
        "# Load Titanic dataset from a CSV file (you can change the file path)\n",
        "file_path = '/content/titantic train.csv'  # Change this to your file's location\n",
        "data = pd.read_csv(file_path)\n",
        "\n",
        "# Check the first few rows to understand the structure of the data\n",
        "print(data.head())"
      ],
      "metadata": {
        "colab": {
          "base_uri": "https://localhost:8080/"
        },
        "id": "0ADl7N03JBXh",
        "outputId": "09bb4bf5-36d0-4fcd-b258-e49f445cc71d"
      },
      "execution_count": null,
      "outputs": [
        {
          "output_type": "stream",
          "name": "stdout",
          "text": [
            "   PassengerId  Survived  Pclass  \\\n",
            "0            1         0       3   \n",
            "1            2         1       1   \n",
            "2            3         1       3   \n",
            "3            4         1       1   \n",
            "4            5         0       3   \n",
            "\n",
            "                                                Name     Sex   Age  SibSp  \\\n",
            "0                            Braund, Mr. Owen Harris    male  22.0      1   \n",
            "1  Cumings, Mrs. John Bradley (Florence Briggs Th...  female  38.0      1   \n",
            "2                             Heikkinen, Miss. Laina  female  26.0      0   \n",
            "3       Futrelle, Mrs. Jacques Heath (Lily May Peel)  female  35.0      1   \n",
            "4                           Allen, Mr. William Henry    male  35.0      0   \n",
            "\n",
            "   Parch            Ticket     Fare Cabin Embarked  \n",
            "0      0         A/5 21171   7.2500   NaN        S  \n",
            "1      0          PC 17599  71.2833   C85        C  \n",
            "2      0  STON/O2. 3101282   7.9250   NaN        S  \n",
            "3      0            113803  53.1000  C123        S  \n",
            "4      0            373450   8.0500   NaN        S  \n"
          ]
        }
      ]
    },
    {
      "cell_type": "code",
      "source": [
        "# Filter the dataset to only include survivors (Survived == 1)\n",
        "survivors = data[data['Survived'] == 1]\n",
        "\n",
        "# Handle missing values in the 'Age' column by filling them with the mean age of survivors\n",
        "survivors['Age'] = survivors['Age'].fillna(survivors['Age'].mean())\n",
        "\n",
        "# Calculate the average age of survivors\n",
        "average_age = survivors['Age'].mean()\n",
        "print(f\"Average Age of Survivors: {average_age}\")"
      ],
      "metadata": {
        "colab": {
          "base_uri": "https://localhost:8080/"
        },
        "id": "HyQxouUKJTjg",
        "outputId": "f504dd77-5bef-438d-8350-28cc824db1f4"
      },
      "execution_count": null,
      "outputs": [
        {
          "output_type": "stream",
          "name": "stdout",
          "text": [
            "Average Age of Survivors: 28.343689655172412\n"
          ]
        },
        {
          "output_type": "stream",
          "name": "stderr",
          "text": [
            "<ipython-input-6-2cd7c79fc4a2>:5: SettingWithCopyWarning: \n",
            "A value is trying to be set on a copy of a slice from a DataFrame.\n",
            "Try using .loc[row_indexer,col_indexer] = value instead\n",
            "\n",
            "See the caveats in the documentation: https://pandas.pydata.org/pandas-docs/stable/user_guide/indexing.html#returning-a-view-versus-a-copy\n",
            "  survivors['Age'] = survivors['Age'].fillna(survivors['Age'].mean())\n"
          ]
        }
      ]
    },
    {
      "cell_type": "code",
      "source": [
        "# Save the transformed data to a new CSV file\n",
        "output_file_path = 'survivors_transformed.csv'\n",
        "survivors.to_csv(output_file_path, index=False)\n",
        "print(f\"Transformed data saved to {output_file_path}\")"
      ],
      "metadata": {
        "colab": {
          "base_uri": "https://localhost:8080/"
        },
        "id": "xSwKkzOGJZH8",
        "outputId": "4e61eef0-508f-4942-b07e-8087b02dd2ab"
      },
      "execution_count": null,
      "outputs": [
        {
          "output_type": "stream",
          "name": "stdout",
          "text": [
            "Transformed data saved to survivors_transformed.csv\n"
          ]
        }
      ]
    },
    {
      "cell_type": "code",
      "source": [
        "import sqlite3\n",
        "\n",
        "# Connect to SQLite database (it will create the database file if it doesn't exist)\n",
        "conn = sqlite3.connect('titanic_data.db')\n",
        "cursor = conn.cursor()\n",
        "\n",
        "# Create table to store the transformed data (you can adjust columns based on your needs)\n",
        "cursor.execute('''\n",
        "CREATE TABLE IF NOT EXISTS survivors (\n",
        "    PassengerId INTEGER PRIMARY KEY,\n",
        "    Pclass INTEGER,\n",
        "    Name TEXT,\n",
        "    Sex TEXT,\n",
        "    Age REAL,\n",
        "    SibSp INTEGER,\n",
        "    Parch INTEGER,\n",
        "    Fare REAL,\n",
        "    Embarked TEXT,\n",
        "    Survived INTEGER\n",
        ");\n",
        "''')\n",
        "\n",
        "# Insert transformed data into the 'survivors' table\n",
        "survivors.to_sql('survivors', conn, if_exists='replace', index=False)\n",
        "\n",
        "# Commit the transaction and close the connection\n",
        "conn.commit()\n",
        "conn.close()\n",
        "print(\"Transformed data loaded into SQLite database\")"
      ],
      "metadata": {
        "colab": {
          "base_uri": "https://localhost:8080/"
        },
        "id": "AlngLKNfJts6",
        "outputId": "847360b2-b71d-471e-f561-242ea5a3dd30"
      },
      "execution_count": null,
      "outputs": [
        {
          "output_type": "stream",
          "name": "stdout",
          "text": [
            "Transformed data loaded into SQLite database\n"
          ]
        }
      ]
    },
    {
      "cell_type": "code",
      "source": [],
      "metadata": {
        "id": "sBvYEiIcJ2de"
      },
      "execution_count": null,
      "outputs": []
    }
  ]
}